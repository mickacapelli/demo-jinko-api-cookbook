{
 "cells": [
  {
   "cell_type": "markdown",
   "id": "97de1512",
   "metadata": {},
   "source": [
    "# From CM to trial results\n",
    "\n",
    "## Introduction\n",
    "\n",
    "Goal of this cookbook is to illustrate how one can post the material needed for a trial, run it and visualize the results.\n",
    "\n",
    "Steps: \n",
    "1. Post a Computational Model\n",
    "2. Create a Virtual Population (Vpop) Design\n",
    "3. Generate a Vpop from the Vpop Design\n",
    "4. Post a Protocol\n",
    "5. Post a Data Table\n",
    "6. Post a Trial\n",
    "7. Run and monitor a Trial\n",
    "8. Visualize the trial results\n",
    "\n",
    "Linked resources: \n",
    "- [Folder on jinko](https://jinko.ai/project/b32bb3be-e46a-43be-a643-4067cac72443)."
   ]
  },
  {
   "cell_type": "markdown",
   "id": "52caecfb",
   "metadata": {},
   "source": [
    "**Note on known bug currently being solved:**\n",
    " - Step 1 : the computational model cannot for now contain extra options. This forces it be named \"Untitled\" and to be located at the source of the jinko.ai project\n",
    " - Step 3 : generating a virtual population raises a 500 error. The vpop is well created but the response is not correct. A workaround is used in the notebook"
   ]
  },
  {
   "cell_type": "code",
   "execution_count": 1,
   "id": "f4a8a8c1",
   "metadata": {},
   "outputs": [
    {
     "name": "stdout",
     "output_type": "stream",
     "text": [
      "Authentication successful\n"
     ]
    }
   ],
   "source": [
    "# Jinko specifics imports & initialization\n",
    "# Please fold this section and do not change\n",
    "\n",
    "import sys\n",
    "\n",
    "sys.path.insert(0, \"../lib\")\n",
    "import jinko_helpers as jinko\n",
    "\n",
    "# Connect to Jinko (see README.md for more options)\n",
    "\n",
    "jinko.initialize()"
   ]
  },
  {
   "cell_type": "code",
   "execution_count": 2,
   "id": "b8a8364c",
   "metadata": {},
   "outputs": [],
   "source": [
    "# Cookbook specifics imports\n",
    "\n",
    "import io\n",
    "import json\n",
    "import os\n",
    "import pandas as pd\n",
    "import plotly.express as px\n",
    "import zipfile\n",
    "\n",
    "# Cookbook specifics constants:\n",
    "# put here the constants that are specific to your cookbook like\n",
    "# the reference to the Jinko items, the name of the model, etc.\n",
    "\n",
    "# folder_id can be retrieved in the url, pattern is `https://jinko.ai/project/<project_id>?labels=<folder_id>`\n",
    "folder_id = \"bdeca5ca-cfe8-4225-a37c-170256403573\"\n",
    "\n",
    "resources_dir = os.path.normpath(\"resources/run_a_trial\")\n",
    "\n",
    "model_file = os.path.join(resources_dir, \"computational_model.json\")\n",
    "solving_options_file = os.path.join(resources_dir, \"solving_options.json\")\n",
    "vpop_file = os.path.join(resources_dir, \"vpop.csv\")\n",
    "protocol_file = os.path.join(resources_dir, \"protocol.json\")\n",
    "data_table_file = os.path.join(resources_dir, \"data_table.csv\")"
   ]
  },
  {
   "cell_type": "markdown",
   "id": "cb7a6106",
   "metadata": {},
   "source": [
    "# Step 1: Post a Computational Model"
   ]
  },
  {
   "cell_type": "code",
   "execution_count": 3,
   "id": "6dd9f681",
   "metadata": {},
   "outputs": [
    {
     "name": "stdout",
     "output_type": "stream",
     "text": [
      "201: {\"coreItemId\":\"875e2286-c583-4ee1-91ab-db94494ec336\",\"metadata\":{\"internal\":{\"contentHash\":\"4fccb9ac12d8ba35fd2e966146cbd34bebb008b9b4792cb206e73c78dafac2ae\",\"projectId\":\"b32bb3be-e46a-43be-a643-4067cac72443\"},\"public\":{\"baselineCheckCount\":0,\"categoricalParameterCount\":1,\"compartmentCount\":5,\"eventCount\":2,\"odeCount\":0,\"parameterCount\":25,\"reactionCount\":11,\"speciesCount\":6}},\"snapshotId\":\"b97bf98a-feec-4b00-a6d2-46950d279859\",\"warnings\":[]}\n"
     ]
    },
    {
     "data": {
      "text/plain": [
       "'Resource link: https://jinko.ai/cm-0VMa-e0Ud'"
      ]
     },
     "execution_count": 3,
     "metadata": {},
     "output_type": "execute_result"
    }
   ],
   "source": [
    "# Load the model\n",
    "with open(model_file, \"r\") as f:\n",
    "    model = json.load(f)\n",
    "\n",
    "# Load the solving options\n",
    "with open(solving_options_file, \"r\") as f:\n",
    "    solving_options = json.load(f)\n",
    "\n",
    "# Post the model with its options\n",
    "# https://doc.jinko.ai/api/#/paths/core-v2-model_manager-jinko_model/post\n",
    "response = jinko.makeRequest(\n",
    "    path=\"/core/v2/model_manager/jinko_model\",\n",
    "    method=\"POST\",\n",
    "    json={\"model\": model, \"solvingOptions\": solving_options},\n",
    ")\n",
    "\n",
    "response_json = response.json()\n",
    "\n",
    "model_core_item_id = response_json.get(\"coreItemId\")\n",
    "model_snapshot_id = response_json.get(\"snapshotId\")\n",
    "\n",
    "# Get the URL of the resource\n",
    "jinko.getProjectItemUrlByCoreItemId(model_core_item_id)"
   ]
  },
  {
   "cell_type": "markdown",
   "id": "f5db8ddd",
   "metadata": {},
   "source": [
    "Here since Cm is missing a X-jinko-project-item-folder-ids header, you can move the CM in the correct folder (known bug being solved by the team)"
   ]
  },
  {
   "cell_type": "markdown",
   "id": "9687db1c",
   "metadata": {},
   "source": [
    "# Step 2: Create a Vpop Design"
   ]
  },
  {
   "cell_type": "markdown",
   "id": "32b69e5f",
   "metadata": {},
   "source": [
    "### Get model descriptors\n"
   ]
  },
  {
   "cell_type": "code",
   "execution_count": 4,
   "id": "a6621fb7",
   "metadata": {},
   "outputs": [
    {
     "data": {
      "text/plain": [
       "[{'distribution': {'highBound': 1.2, 'lowBound': 0.8, 'tag': 'Uniform'},\n",
       "  'id': 'Blood'},\n",
       " {'distribution': {'highBound': 0.36, 'lowBound': 0.24, 'tag': 'Uniform'},\n",
       "  'id': 'Lymph'},\n",
       " {'distribution': {'highBound': 12, 'lowBound': 8, 'tag': 'Uniform'},\n",
       "  'id': 'SubcutaneousInjectionSite'},\n",
       " {'distribution': {'highBound': 0.6, 'lowBound': 0.4, 'tag': 'Uniform'},\n",
       "  'id': 'Tissue'},\n",
       " {'distribution': {'highBound': 120, 'lowBound': 80, 'tag': 'Uniform'},\n",
       "  'id': 'bloodFlowRate'},\n",
       " {'distribution': {'highBound': 0.0006, 'lowBound': 0.0004, 'tag': 'Uniform'},\n",
       "  'id': 'ec50Drug'},\n",
       " {'distribution': {'highBound': 60, 'lowBound': 40, 'tag': 'Uniform'},\n",
       "  'id': 'initialTumorBurden'},\n",
       " {'distribution': {'highBound': 0.096, 'lowBound': 0.064, 'tag': 'Uniform'},\n",
       "  'id': 'kClearanceDrug'},\n",
       " {'distribution': {'highBound': 0.0012, 'lowBound': 0.0008, 'tag': 'Uniform'},\n",
       "  'id': 'kGrowthCancerCell'},\n",
       " {'distribution': {'highBound': 1200000000000,\n",
       "   'lowBound': 800000000000,\n",
       "   'tag': 'Uniform'},\n",
       "  'id': 'kccCancerCell'},\n",
       " {'distribution': {'highBound': 0.12,\n",
       "   'lowBound': 0.08000000000000002,\n",
       "   'tag': 'Uniform'},\n",
       "  'id': 'lymphDrainingRate'},\n",
       " {'distribution': {'highBound': 0.12,\n",
       "   'lowBound': 0.08000000000000002,\n",
       "   'tag': 'Uniform'},\n",
       "  'id': 'vmaxCancerCellDeath'}]"
      ]
     },
     "execution_count": 4,
     "metadata": {},
     "output_type": "execute_result"
    }
   ],
   "source": [
    "# get model baseline descriptors\n",
    "# https://doc.jinko.ai/api/#/paths/core-v2-model_manager-jinko_model-jinkoModelId--snapshots--jinkoModelIdSnapshot--baseline_descriptors/get\n",
    "response = jinko.makeRequest(\n",
    "    path=f\"/core/v2/model_manager/jinko_model/{model_core_item_id}/snapshots/{model_snapshot_id}/baseline_descriptors\",\n",
    ")\n",
    "\n",
    "response_json = response.json()\n",
    "\n",
    "numeric_descriptors = response_json[\"numericDescriptors\"]\n",
    "\n",
    "# build the default marginal distributions that will be used to create the vpop design\n",
    "# we only select descriptors that are PatientDescriptorKnown, PatientDescriptorUnknown or PatientDescriptorPartiallyKnown\n",
    "default_marginal_distributions = [\n",
    "    {\n",
    "        \"distribution\": {\n",
    "            \"highBound\": descriptor[\"distribution\"][\"highBound\"],\n",
    "            \"lowBound\": descriptor[\"distribution\"][\"lowBound\"],\n",
    "            \"tag\": descriptor[\"distribution\"][\"tag\"],\n",
    "        },\n",
    "        \"id\": descriptor[\"id\"],\n",
    "    }\n",
    "    for descriptor in numeric_descriptors\n",
    "    if any(\n",
    "        tag in descriptor[\"inputTag\"]\n",
    "        for tag in [\n",
    "            \"PatientDescriptorKnown\",\n",
    "            \"PatientDescriptorUnknown\",\n",
    "            \"PatientDescriptorPartiallyKnown\",\n",
    "        ]\n",
    "    )\n",
    "]\n",
    "\n",
    "# Creating a formatted message with the IDs from marginal distributions\n",
    "ids_output = \"IDs present in the Marginal Distributions:\\n\" + \"\\n\".join(\n",
    "    [distribution[\"id\"] for distribution in default_marginal_distributions]\n",
    ")\n",
    "\n",
    "default_marginal_distributions"
   ]
  },
  {
   "cell_type": "markdown",
   "id": "c5642058",
   "metadata": {},
   "source": [
    "### Create a new list with the updated distributions"
   ]
  },
  {
   "cell_type": "code",
   "execution_count": 5,
   "id": "26a73b2c",
   "metadata": {},
   "outputs": [],
   "source": [
    "# Define a dictionary for distribution settings\n",
    "distribution_settings = {\n",
    "    \"initialTumorBurden\": {\"mean\": 1.8, \"stdev\": 0.08, \"base\": 10, \"tag\": \"LogNormal\"},\n",
    "    \"kccCancerCell\": {\"mean\": 12, \"stdev\": 0.5, \"base\": 10, \"tag\": \"LogNormal\"},\n",
    "    \"kGrowthCancerCell\": {\"mean\": -3, \"stdev\": 0.05, \"base\": 10, \"tag\": \"LogNormal\"},\n",
    "    \"vmaxCancerCellDeath\": {\"mean\": -1, \"stdev\": 0.05, \"base\": 10, \"tag\": \"LogNormal\"},\n",
    "    \"ec50Drug\": {\"mean\": -3.5, \"stdev\": 0.05, \"base\": 10, \"tag\": \"LogNormal\"},\n",
    "}\n",
    "\n",
    "# Refactor the list comprehension using the dictionary\n",
    "updated_marginal_distributions = [\n",
    "    {\n",
    "        \"id\": element[\"id\"],\n",
    "        \"distribution\": distribution_settings.get(\n",
    "            element[\"id\"],\n",
    "            element[\n",
    "                \"distribution\"\n",
    "            ],  # Default to the existing distribution if id is not found\n",
    "        ),\n",
    "    }\n",
    "    for element in default_marginal_distributions\n",
    "]"
   ]
  },
  {
   "cell_type": "markdown",
   "id": "8c2cb0bc",
   "metadata": {},
   "source": [
    "### Post the vpop design"
   ]
  },
  {
   "cell_type": "code",
   "execution_count": 6,
   "id": "0f13ff94",
   "metadata": {},
   "outputs": [
    {
     "name": "stdout",
     "output_type": "stream",
     "text": [
      "201: {\"coreItemId\":\"5389a5bc-c5a9-4625-ab96-47459559a460\",\"metadata\":{\"internal\":{\"tag\":\"VpopGeneratorMetadataEmpty\"},\"public\":null},\"snapshotId\":\"62b533fa-1b26-4916-b947-8b8bc679a2c4\",\"warnings\":[]}\n"
     ]
    },
    {
     "data": {
      "text/plain": [
       "'Resource link: https://jinko.ai/vd-Exmy-Mpkf'"
      ]
     },
     "execution_count": 6,
     "metadata": {},
     "output_type": "execute_result"
    }
   ],
   "source": [
    "# https://doc.jinko.ai/api/#/paths/core-v2-vpop_manager-vpop_generator/post\n",
    "response = jinko.makeRequest(\n",
    "    path=\"/core/v2/vpop_manager/vpop_generator\",\n",
    "    method=\"POST\",\n",
    "    json={\n",
    "        \"contents\": {\n",
    "            \"computationalModelId\": {\n",
    "                \"coreItemId\": model_core_item_id,\n",
    "                \"snapshotId\": model_snapshot_id,\n",
    "            },\n",
    "            \"correlations\": [],\n",
    "            \"marginalCategoricals\": [],\n",
    "            \"marginalDistributions\": updated_marginal_distributions,\n",
    "        },\n",
    "        \"tag\": \"VpopGeneratorFromDesign\",\n",
    "    },\n",
    "    options={\n",
    "        \"name\": \"vpop design for simple tumor model\",\n",
    "        \"folder_id\": folder_id,\n",
    "    },\n",
    ")\n",
    "\n",
    "# Pretty print the response\n",
    "response_json = response.json()\n",
    "vpop_generator_core_item_id = response_json.get(\"coreItemId\")\n",
    "vpop_generator_snapshot_id = response_json.get(\"snapshotId\")\n",
    "\n",
    "# Get the URL of the resource\n",
    "jinko.getProjectItemUrlByCoreItemId(vpop_generator_core_item_id)"
   ]
  },
  {
   "cell_type": "markdown",
   "id": "6516445a",
   "metadata": {},
   "source": [
    "# Step 3: Generate a Vpop from the Vpop design"
   ]
  },
  {
   "cell_type": "code",
   "execution_count": 7,
   "id": "d603dd35",
   "metadata": {},
   "outputs": [
    {
     "name": "stdout",
     "output_type": "stream",
     "text": [
      "500: {}\n",
      "{'coreItemId': '706fba15-b38e-45ff-8b9a-d1bec9c76b61', 'metadata': {'internal': {'contentHash': '13854881ea3c184771576d860c150e5dc2eb13ab74ea158466a0305633197f76', 'projectId': 'b32bb3be-e46a-43be-a643-4067cac72443', 'vpopSize': None}, 'public': None}, 'snapshotId': 'd18d0a31-427e-451d-a645-8e947fa82b84', 'warnings': []}\n"
     ]
    }
   ],
   "source": [
    "# https://doc.jinko.ai/api/#/paths/core-v2-vpop_manager-vpop_generator-vpopGeneratorId--snapshots--vpopGeneratorIdSnapshot--vpop/post\n",
    "\n",
    "try:  # we embed it in a try-except block here, the query raising a 500, bug under investigation\n",
    "    response = jinko.makeRequest(\n",
    "        path=f\"/core/v2/vpop_manager/vpop_generator/{vpop_generator_core_item_id}/snapshots/{vpop_generator_snapshot_id}/vpop\",\n",
    "        method=\"POST\",\n",
    "        json={\n",
    "            \"contents\": {\n",
    "                \"computationalModelId\": {\n",
    "                    \"coreItemId\": model_core_item_id,\n",
    "                    \"snapshotId\": model_snapshot_id,\n",
    "                },\n",
    "                \"size\": 10,  # vpop has 10 patients\n",
    "            },\n",
    "            \"tag\": \"VpopGeneratorOptionsForVpopDesign\",\n",
    "        },\n",
    "        options={\n",
    "            \"name\": \"vpop for simple tumor model\",\n",
    "            \"folder_id\": folder_id,\n",
    "        },\n",
    "    )\n",
    "except (\n",
    "    Exception\n",
    ") as e:  # as a workaround, we list the vpops belonging the generator and select the last created one\n",
    "    response = jinko.makeRequest(\n",
    "        path=f\"/core/v2/vpop_manager/vpop_generator/{vpop_generator_core_item_id}/snapshots/{vpop_generator_snapshot_id}/vpops\",\n",
    "    )\n",
    "    response_json = response.json()\n",
    "    print(response_json[-1][\"vpopId\"])\n",
    "    vpop_core_item_id = response_json[0][\"vpopId\"][\"coreItemId\"]\n",
    "    vpop_snapshot_id = response_json[0][\"vpopId\"][\"snapshotId\"]"
   ]
  },
  {
   "cell_type": "markdown",
   "id": "75ad1868",
   "metadata": {},
   "source": [
    "# Step 3 bis - not mandatory: Directly post a csv vpop"
   ]
  },
  {
   "cell_type": "code",
   "execution_count": 8,
   "id": "9ee5cfb4",
   "metadata": {},
   "outputs": [
    {
     "name": "stdout",
     "output_type": "stream",
     "text": [
      "500: {}\n",
      "500 Server Error: Internal Server Error for url: https://api.jinko.ai/core/v2/vpop_manager/vpop\n"
     ]
    }
   ],
   "source": [
    "with open(vpop_file, \"r\") as file:\n",
    "    vpop = file.read()\n",
    "\n",
    "# https://doc.jinko.ai/api/#/paths/core-v2-vpop_manager-vpop/post\n",
    "\n",
    "try:  # we embed it in a try-except block here, the query raising a 500, bug under investigation\n",
    "    response = jinko.makeRequest(\n",
    "        path=f\"/core/v2/vpop_manager/vpop\",\n",
    "        method=\"POST\",\n",
    "        csv_data=vpop,\n",
    "        options={\n",
    "            \"name\": \"vpop for simple tumor model\",\n",
    "            \"folder_id\": folder_id,\n",
    "        },\n",
    "    )\n",
    "except (\n",
    "    Exception\n",
    ") as e:  # here the only workaround for now is to go to your project, identify the short id of the vpop in the url\n",
    "    # and get its core item ids and snapshot ids\n",
    "    print(e)"
   ]
  },
  {
   "cell_type": "code",
   "execution_count": 12,
   "id": "e8854565",
   "metadata": {},
   "outputs": [],
   "source": [
    "# example on how to get the coreItemId and the snapshotId\n",
    "\n",
    "vpop_bis_ids = jinko.getCoreItemId(\"vp-jB1C-BIsO\")\n",
    "\n",
    "vpop_bis_core_item_id, vpop_bis_snapshot_id = (\n",
    "    vpop_bis_ids[\"id\"],\n",
    "    vpop_bis_ids[\"snapshotId\"],\n",
    ")"
   ]
  },
  {
   "cell_type": "markdown",
   "id": "c2297e60",
   "metadata": {},
   "source": [
    "# Step 4 : Post a Protocol"
   ]
  },
  {
   "cell_type": "code",
   "execution_count": 13,
   "id": "49ed14e9",
   "metadata": {},
   "outputs": [
    {
     "name": "stdout",
     "output_type": "stream",
     "text": [
      "201: {\"coreItemId\":\"dd58e1fd-da46-4688-a60b-025455ca6241\",\"metadata\":{\"internal\":{\"contentHash\":\"5a72f106e63d15986b34838f6a652bf8b5395258e261c7fa9b5c11f7b1b9d888\",\"projectId\":\"b32bb3be-e46a-43be-a643-4067cac72443\"},\"public\":{\"armCount\":12,\"armOverrideCount\":3}},\"snapshotId\":\"88451821-df58-4db0-8c69-c7cc503c425f\",\"warnings\":[]}\n"
     ]
    },
    {
     "data": {
      "text/plain": [
       "'Resource link: https://jinko.ai/pd-brms-U99P'"
      ]
     },
     "execution_count": 13,
     "metadata": {},
     "output_type": "execute_result"
    }
   ],
   "source": [
    "# Load the protocol\n",
    "with open(protocol_file, \"r\") as f:\n",
    "    protocol = json.load(f)\n",
    "\n",
    "# Post the protocol\n",
    "# https://doc.jinko.ai/api/#/paths/core-v2-scenario_manager-protocol_design/post\n",
    "response = jinko.makeRequest(\n",
    "    path=\"/core/v2/scenario_manager/protocol_design\",\n",
    "    method=\"POST\",\n",
    "    json=protocol,\n",
    "    options={\n",
    "        \"name\": \"protocol for simple tumor model\",\n",
    "        \"folder_id\": folder_id,\n",
    "    },\n",
    ")\n",
    "\n",
    "response_json = response.json()\n",
    "\n",
    "protocol_core_item_id = response_json.get(\"coreItemId\")\n",
    "protocol_snapshot_id = response_json.get(\"snapshotId\")\n",
    "\n",
    "# Get the URL of the resource\n",
    "jinko.getProjectItemUrlByCoreItemId(protocol_core_item_id)"
   ]
  },
  {
   "cell_type": "markdown",
   "id": "5394a9b6",
   "metadata": {},
   "source": [
    "# Step 5: Post a Data Table"
   ]
  },
  {
   "cell_type": "code",
   "execution_count": 14,
   "id": "69a3c62d",
   "metadata": {},
   "outputs": [
    {
     "name": "stdout",
     "output_type": "stream",
     "text": [
      "201: {\"coreItemId\":\"912f3669-ad5b-49cf-b436-29e13d1c3553\",\"metadata\":{\"internal\":{\"contentHash\":\"6183df0d0f2f0031bdf5a0d79b5c18f700fe91fde9fb5d0087e3cad87f7bb60a\",\"projectId\":\"b32bb3be-e46a-43be-a643-4067cac72443\"},\"public\":{\"initialColumnCount\":4,\"initialRowCount\":60,\"observableCount\":1,\"timePointCount\":5,\"withMappingColumnCount\":4,\"withMappingRowCount\":60}},\"snapshotId\":\"b329c961-5f58-473f-8b2e-1fe7c7d3efff\",\"warnings\":[]}\n"
     ]
    },
    {
     "data": {
      "text/plain": [
       "'Resource link: https://jinko.ai/dt-m2Hh-2Ljq'"
      ]
     },
     "execution_count": 14,
     "metadata": {},
     "output_type": "execute_result"
    }
   ],
   "source": [
    "# the source data table is a CSV file, we convert it to SQLite and encode it in base64\n",
    "\n",
    "encoded_data_table = jinko.dataTableToSQLite(data_table_file)\n",
    "\n",
    "# Step 3: Post the data table\n",
    "# https://doc.jinko.ai/api/#/paths/core-v2-data_table_manager-data_table/post\n",
    "response = jinko.makeRequest(\n",
    "    path=\"/core/v2/data_table_manager/data_table\",\n",
    "    method=\"POST\",\n",
    "    json={\n",
    "        \"mappings\": [],\n",
    "        \"rawData\": encoded_data_table,\n",
    "    },\n",
    "    options={\n",
    "        \"name\": \"data table for simple tumor model\",\n",
    "        \"folder_id\": folder_id,\n",
    "    },\n",
    ")\n",
    "\n",
    "# Pretty print the response\n",
    "response_json = response.json()\n",
    "\n",
    "data_table_core_item_id = response_json.get(\"coreItemId\")\n",
    "data_table_snapshot_id = response_json.get(\"snapshotId\")\n",
    "\n",
    "# Get the URL of the resource\n",
    "jinko.getProjectItemUrlByCoreItemId(data_table_core_item_id)"
   ]
  },
  {
   "cell_type": "markdown",
   "id": "179fef2e",
   "metadata": {},
   "source": [
    "# Step 6: Post a Trial"
   ]
  },
  {
   "cell_type": "code",
   "execution_count": 15,
   "id": "dec630b2",
   "metadata": {},
   "outputs": [
    {
     "name": "stdout",
     "output_type": "stream",
     "text": [
      "201: {\"coreItemId\":\"694ea7ed-dcaa-4d3f-89a9-5a00ad601bb3\",\"metadata\":{\"internal\":{\"contentHash\":\"7abe1d5d72f8ad9c6dfd53faadf8ccd05bed0f265a56c0efa06503501be276ec\",\"solveScoreVpopUuid\":null,\"status\":\"not_launched\"},\"public\":null},\"snapshotId\":\"c54aa70e-8d91-4310-a55f-953cf0b7259c\",\"warnings\":[]}\n"
     ]
    },
    {
     "data": {
      "text/plain": [
       "'Resource link: https://jinko.ai/tr-1ROC-FacL'"
      ]
     },
     "execution_count": 15,
     "metadata": {},
     "output_type": "execute_result"
    }
   ],
   "source": [
    "# https://doc.jinko.ai/api/#/paths/core-v2-trial_manager-trial/post\n",
    "\n",
    "# Define the data payload\n",
    "trial_data = {\n",
    "    \"computationalModelId\": {\n",
    "        \"coreItemId\": model_core_item_id,\n",
    "        \"snapshotId\": model_snapshot_id,\n",
    "    },\n",
    "    \"protocolDesignId\": {\n",
    "        \"coreItemId\": protocol_core_item_id,\n",
    "        \"snapshotId\": protocol_snapshot_id,\n",
    "    },\n",
    "    \"vpopId\": {\"coreItemId\": vpop_core_item_id, \"snapshotId\": vpop_snapshot_id},\n",
    "    \"dataTableDesigns\": [\n",
    "        {\n",
    "            \"dataTableId\": {\n",
    "                \"coreItemId\": data_table_core_item_id,\n",
    "                \"snapshotId\": data_table_snapshot_id,\n",
    "            },\n",
    "            \"options\": {\n",
    "                \"logTransformWideBounds\": [],\n",
    "                \"label\": \"data_table_simple_tumor\",\n",
    "            },\n",
    "            \"include\": True,\n",
    "        }\n",
    "    ],\n",
    "}\n",
    "\n",
    "response = jinko.makeRequest(\n",
    "    path=\"/core/v2/trial_manager/trial\",\n",
    "    method=\"POST\",\n",
    "    json=trial_data,\n",
    "    options={\n",
    "        \"name\": \"trial for simple tumor model\",\n",
    "        \"folder_id\": folder_id,\n",
    "    },\n",
    ")\n",
    "\n",
    "response_json = response.json()\n",
    "\n",
    "trial_core_item_id = response_json.get(\"coreItemId\")\n",
    "trial_snapshot_id = response_json.get(\"snapshotId\")\n",
    "\n",
    "trial_id = {\"coreItemId\": trial_core_item_id, \"snapshotId\": trial_snapshot_id}\n",
    "\n",
    "# Get the URL of the resource\n",
    "jinko.getProjectItemUrlByCoreItemId(trial_core_item_id)"
   ]
  },
  {
   "cell_type": "markdown",
   "id": "df357702",
   "metadata": {},
   "source": [
    "# Step 7 : Run and monitor a trial\n"
   ]
  },
  {
   "cell_type": "markdown",
   "id": "2c80a258",
   "metadata": {},
   "source": [
    "### Run the trial"
   ]
  },
  {
   "cell_type": "code",
   "execution_count": 16,
   "id": "f1aed5e4",
   "metadata": {},
   "outputs": [],
   "source": [
    "# https://doc.jinko.ai/api/#/paths/core-v2-trial_manager-trial-trialId--snapshots--trialIdSnapshot--run/post\n",
    "response = jinko.makeRequest(\n",
    "    path=f\"/core/v2/trial_manager/trial/{trial_core_item_id}/snapshots/{trial_snapshot_id}/run\",\n",
    "    method=\"POST\",\n",
    ")"
   ]
  },
  {
   "cell_type": "markdown",
   "id": "dbfad06c",
   "metadata": {},
   "source": [
    "### get trial status\n"
   ]
  },
  {
   "cell_type": "code",
   "execution_count": 17,
   "id": "94701668",
   "metadata": {},
   "outputs": [
    {
     "name": "stdout",
     "output_type": "stream",
     "text": [
      "Job is running.\n"
     ]
    },
    {
     "data": {
      "text/html": [
       "<div>\n",
       "<style scoped>\n",
       "    .dataframe tbody tr th:only-of-type {\n",
       "        vertical-align: middle;\n",
       "    }\n",
       "\n",
       "    .dataframe tbody tr th {\n",
       "        vertical-align: top;\n",
       "    }\n",
       "\n",
       "    .dataframe thead th {\n",
       "        text-align: right;\n",
       "    }\n",
       "</style>\n",
       "<table border=\"1\" class=\"dataframe\">\n",
       "  <thead>\n",
       "    <tr style=\"text-align: right;\">\n",
       "      <th></th>\n",
       "      <th>Arm</th>\n",
       "      <th>countError</th>\n",
       "      <th>countPending</th>\n",
       "      <th>countSuccess</th>\n",
       "    </tr>\n",
       "  </thead>\n",
       "  <tbody>\n",
       "    <tr>\n",
       "      <th>0</th>\n",
       "      <td>iv-0.1-10</td>\n",
       "      <td>0</td>\n",
       "      <td>3</td>\n",
       "      <td>7</td>\n",
       "    </tr>\n",
       "    <tr>\n",
       "      <th>1</th>\n",
       "      <td>iv-0.1-30</td>\n",
       "      <td>0</td>\n",
       "      <td>7</td>\n",
       "      <td>3</td>\n",
       "    </tr>\n",
       "    <tr>\n",
       "      <th>2</th>\n",
       "      <td>iv-1-10</td>\n",
       "      <td>0</td>\n",
       "      <td>6</td>\n",
       "      <td>4</td>\n",
       "    </tr>\n",
       "    <tr>\n",
       "      <th>3</th>\n",
       "      <td>iv-1-30</td>\n",
       "      <td>0</td>\n",
       "      <td>5</td>\n",
       "      <td>5</td>\n",
       "    </tr>\n",
       "    <tr>\n",
       "      <th>4</th>\n",
       "      <td>iv-5-10</td>\n",
       "      <td>0</td>\n",
       "      <td>8</td>\n",
       "      <td>2</td>\n",
       "    </tr>\n",
       "    <tr>\n",
       "      <th>5</th>\n",
       "      <td>iv-5-30</td>\n",
       "      <td>0</td>\n",
       "      <td>5</td>\n",
       "      <td>5</td>\n",
       "    </tr>\n",
       "    <tr>\n",
       "      <th>6</th>\n",
       "      <td>sc-0.1-10</td>\n",
       "      <td>0</td>\n",
       "      <td>7</td>\n",
       "      <td>3</td>\n",
       "    </tr>\n",
       "    <tr>\n",
       "      <th>7</th>\n",
       "      <td>sc-0.1-30</td>\n",
       "      <td>0</td>\n",
       "      <td>6</td>\n",
       "      <td>4</td>\n",
       "    </tr>\n",
       "    <tr>\n",
       "      <th>8</th>\n",
       "      <td>sc-1-10</td>\n",
       "      <td>0</td>\n",
       "      <td>5</td>\n",
       "      <td>5</td>\n",
       "    </tr>\n",
       "    <tr>\n",
       "      <th>9</th>\n",
       "      <td>sc-1-30</td>\n",
       "      <td>0</td>\n",
       "      <td>8</td>\n",
       "      <td>2</td>\n",
       "    </tr>\n",
       "    <tr>\n",
       "      <th>10</th>\n",
       "      <td>sc-5-10</td>\n",
       "      <td>0</td>\n",
       "      <td>6</td>\n",
       "      <td>4</td>\n",
       "    </tr>\n",
       "    <tr>\n",
       "      <th>11</th>\n",
       "      <td>sc-5-30</td>\n",
       "      <td>0</td>\n",
       "      <td>6</td>\n",
       "      <td>4</td>\n",
       "    </tr>\n",
       "  </tbody>\n",
       "</table>\n",
       "</div>"
      ],
      "text/plain": [
       "          Arm  countError  countPending  countSuccess\n",
       "0   iv-0.1-10           0             3             7\n",
       "1   iv-0.1-30           0             7             3\n",
       "2     iv-1-10           0             6             4\n",
       "3     iv-1-30           0             5             5\n",
       "4     iv-5-10           0             8             2\n",
       "5     iv-5-30           0             5             5\n",
       "6   sc-0.1-10           0             7             3\n",
       "7   sc-0.1-30           0             6             4\n",
       "8     sc-1-10           0             5             5\n",
       "9     sc-1-30           0             8             2\n",
       "10    sc-5-10           0             6             4\n",
       "11    sc-5-30           0             6             4"
      ]
     },
     "metadata": {},
     "output_type": "display_data"
    }
   ],
   "source": [
    "# https://doc.jinko.ai/api/#/paths/core-v2-trial_manager-trial-trialId--snapshots--trialIdSnapshot--status/get\n",
    "response = jinko.makeRequest(\n",
    "    path=f\"/core/v2/trial_manager/trial/{trial_core_item_id}/snapshots/{trial_snapshot_id}/status\"\n",
    ")\n",
    "response_json = response.json()\n",
    "# Extract 'perArmSummary' data\n",
    "per_arm_data = response_json.get(\"perArmSummary\", {})\n",
    "\n",
    "# Check if the job is running and print the appropriate message\n",
    "if response_json.get(\"isRunning\", False):\n",
    "    print(\"Job is running.\")\n",
    "else:\n",
    "    print(\"Job succeeded.\")\n",
    "\n",
    "# Create a DataFrame without hardcoding column names\n",
    "if per_arm_data:\n",
    "    per_arm_summary = pd.DataFrame.from_dict(per_arm_data, orient=\"index\")\n",
    "    per_arm_summary.reset_index(inplace=True)\n",
    "    per_arm_summary.rename(columns={\"index\": \"Arm\"}, inplace=True)\n",
    "    display(per_arm_summary)\n",
    "else:\n",
    "    print(\"No 'perArmSummary' data found in the response.\")"
   ]
  },
  {
   "cell_type": "markdown",
   "id": "e5830ed8",
   "metadata": {},
   "source": [
    "# Step 8 : Visualize the trial results "
   ]
  },
  {
   "cell_type": "code",
   "execution_count": null,
   "id": "a53c5379",
   "metadata": {},
   "outputs": [],
   "source": [
    "# Retrieve time series ids (https://doc.jinko.ai/api/#/paths/core-v2-trial_manager-trial-trialId--snapshots--trialIdSnapshot--output_ids/get)\n",
    "\n",
    "response = jinko.makeRequest(\n",
    "    \"/core/v2/trial_manager/trial/%s/snapshots/%s/output_ids\"\n",
    "    % (trial_core_item_id, trial_snapshot_id),\n",
    "    method=\"GET\",\n",
    ")\n",
    "responseSummary = json.loads(response.content.decode(\"utf-8\"))\n",
    "print(\"Available time series:\\n\", responseSummary, \"\\n\")"
   ]
  },
  {
   "cell_type": "code",
   "execution_count": null,
   "id": "ba414fe2",
   "metadata": {},
   "outputs": [],
   "source": [
    "# Retrieve time series (https://doc.jinko.ai/api/#/paths/core-v2-result_manager-timeseries_summary/post)\n",
    "\n",
    "# replace here by the time series ids list you want\n",
    "idsForTimeSeries = [\"tumorBurden\"]\n",
    "\n",
    "try:\n",
    "    print(\"Retrieving time series data...\")\n",
    "    response = jinko.makeRequest(\n",
    "        \"/core/v2/result_manager/timeseries_summary\",\n",
    "        method=\"POST\",\n",
    "        json={\n",
    "            \"select\": idsForTimeSeries,\n",
    "            \"trialId\": trial_id,\n",
    "        },\n",
    "    )\n",
    "    if response.status_code == 200:\n",
    "        print(\"Time series data retrieved successfully.\")\n",
    "        archive = zipfile.ZipFile(io.BytesIO(response.content))\n",
    "        filename = archive.namelist()[0]\n",
    "        print(f\"Extracted time series file: {filename}\")\n",
    "        csvTimeSeries = archive.read(filename).decode(\"utf-8\")\n",
    "    else:\n",
    "        print(\n",
    "            f\"Failed to retrieve time series data: {response.status_code} - {response.reason}\"\n",
    "        )\n",
    "        response.raise_for_status()\n",
    "except Exception as e:\n",
    "    print(f\"Error during time series retrieval or processing: {e}\")\n",
    "    raise"
   ]
  },
  {
   "cell_type": "code",
   "execution_count": null,
   "id": "413fda57",
   "metadata": {},
   "outputs": [],
   "source": [
    "dfTimeSeries = pd.read_csv(io.StringIO(csvTimeSeries))\n",
    "display(dfTimeSeries.head(5))\n",
    "\n",
    "# Extract unique patient IDs\n",
    "unique_patient_ids = dfTimeSeries[\"Patient Id\"].unique().tolist()\n",
    "\n",
    "# Display unique patient IDs\n",
    "print(unique_patient_ids)"
   ]
  },
  {
   "cell_type": "code",
   "execution_count": null,
   "id": "e6ec21de",
   "metadata": {},
   "outputs": [],
   "source": [
    "# Filter data for the first patient\n",
    "patient_data = dfTimeSeries[dfTimeSeries[\"Patient Id\"] == unique_patient_ids[0]]\n",
    "\n",
    "# Plot using Plotly\n",
    "fig = px.line(\n",
    "    patient_data,\n",
    "    x=\"Time\",\n",
    "    y=\"Value\",\n",
    "    color=\"Arm\",\n",
    "    title=\"Time Series of Tumor Burden\",\n",
    "    labels={\"Time\": \"Time (seconds)\", \"Value\": \"Tumor Burden Value\"},\n",
    "    markers=True,\n",
    ")\n",
    "\n",
    "fig.show()"
   ]
  }
 ],
 "metadata": {
  "kernelspec": {
   "display_name": "jinko-api-doc-PBqBA53s-py3.11",
   "language": "python",
   "name": "python3"
  },
  "language_info": {
   "codemirror_mode": {
    "name": "ipython",
    "version": 3
   },
   "file_extension": ".py",
   "mimetype": "text/x-python",
   "name": "python",
   "nbconvert_exporter": "python",
   "pygments_lexer": "ipython3",
   "version": "3.10.0"
  }
 },
 "nbformat": 4,
 "nbformat_minor": 5
}
